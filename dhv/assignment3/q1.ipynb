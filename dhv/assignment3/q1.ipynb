{
 "cells": [
  {
   "cell_type": "code",
   "execution_count": 8,
   "metadata": {},
   "outputs": [],
   "source": [
    "import nltk\n",
    "from nltk.tokenize import word_tokenize\n",
    "\n",
    "\n",
    "import pandas as pd\n",
    "\n",
    "import os"
   ]
  },
  {
   "cell_type": "markdown",
   "metadata": {},
   "source": [
    "### Taking a Sample text as string"
   ]
  },
  {
   "cell_type": "code",
   "execution_count": 10,
   "metadata": {},
   "outputs": [],
   "source": [
    "text_string = \"\"\"Fortunato and Montresor are descending into the damp vaults under the river bed. Montresor strategically planned all these; and following his friend investigative Fortunato is in the excitement of the amontillado. They reach the final end of the vault. Fortunato is heavily intoxicated by Montresor as a part of his plan. There in the centre of the small cabin was sitting a wooden cask. It was framed by gold lining and decorated with priceless jewels; and there were skulls and human-sized bones scattered here and there inside that cabin. Fortunato not in the presence of mind to fear or appreciate the terrific elegance of the scene they have arrived at; he asked “ Give me amontillado “. Montresor replied in a wittily crooked manner “ Let me repeat the consequences or shall I say the ritual of drinking this elixir of other worldly experience.” He went on, “ This cask in front of you is no ordinary cask of wine, it captures the mysteries of the universe; those who can tolerate such energy shall live a million years and those who can’t shall sacrifice their life to the cask of amontillado.”\n",
    "“ Hence I ask you again. And it is also my duty as a servant to the Lord Odallitnoma! Do you must drink the amontillado, Fortunato? “ asked Montresor. “ Yes! Amontillado! “ said Fortunato in an eerie voice; his eyes brightly locked towards the cask.\n",
    "Montresor poured some of the blood red liquid in a purple glass which was carefully placed in a pocket on the side of the cask. Fortunato looked mesmerizingly at the wine and carefully took the glass from Montresor’s hands. He drank the wine and immediately he closed his eyes; his hands stuck in the same position glass in front of his mouth. He opened his eyes after a few seconds. Surprisingly his intoxication had seemed to have gone away. He spoke in his normal voice, “ Montresor! “.\n",
    "“How do you feel?” curiously asked Montresor.\n",
    "“I don’t feel my body. Also why are you asking me? Why don't you taste for yourself? What is the drink ? What is this place? “\n",
    "“It is part of the amontillado ritual. For this drink to stay in existence every year on the day of the blood moon one soul must be sacrificed, or else  the drink will evaporate inside the empty cask. Your soul has left your body already. Now, if you are strong enough you will suffer immortality and if you are weak then your body will spill like wine and will be soaked into the gravel underneath.” Montresor looked at Fortunato,” And why can't I drink the wine?.. I already did. Five Hundred years ago. Now I am cursed with my body as the servant; to keep the cycle of sacrifice continued. If I drink it again I will be transformed into liquid and infused into the cask.”\n",
    "Suddenly there is a bright red light from inside the cask. Fortunato’s hands and limbs were falling from his body. He shouted in pain. As soon as his limbs fell to the ground it transformed into red liquid. Pieces by pieces all his body parts and finally his head converted into thick red liquid. To the surprise of Montresor, Fortunato’s liquid body was not soaked into the ground. Instead it started moving upwards, towards the golden cask. The cask was still glowing red. The red liquid on the ground was slowly absorbed by the cask and after completion the red glow went dim. Montresor remembered; few centuries ago one stranger gave him a bottle of wine and forbade him to open that, but out of curiosity he opened that and liked the taste of the drink.\n",
    "\"\"\""
   ]
  },
  {
   "cell_type": "markdown",
   "metadata": {},
   "source": [
    "### Tokenizing text with word-tokenizer"
   ]
  },
  {
   "cell_type": "code",
   "execution_count": 25,
   "metadata": {},
   "outputs": [
    {
     "name": "stdout",
     "output_type": "stream",
     "text": [
      "['Fortunato', 'and', 'Montresor', 'are', 'descending', 'into', 'the', 'damp', 'vaults', 'under', 'the', 'river', 'bed', '.', 'Montresor', 'strategically', 'planned', 'all', 'these', ';', 'and', 'following', 'his', 'friend', 'investigative', 'Fortunato', 'is', 'in', 'the', 'excitement', 'of', 'the', 'amontillado', '.', 'They', 'reach', 'the', 'final', 'end', 'of', 'the', 'vault', '.', 'Fortunato', 'is', 'heavily', 'intoxicated', 'by', 'Montresor', 'as', 'a', 'part', 'of', 'his', 'plan', '.', 'There', 'in', 'the', 'centre', 'of', 'the', 'small', 'cabin', 'was', 'sitting', 'a', 'wooden', 'cask', '.', 'It', 'was', 'framed', 'by', 'gold', 'lining', 'and', 'decorated', 'with', 'priceless', 'jewels', ';', 'and', 'there', 'were', 'skulls', 'and', 'human-sized', 'bones', 'scattered', 'here', 'and', 'there', 'inside', 'that', 'cabin', '.', 'Fortunato', 'not', 'in', 'the', 'presence', 'of', 'mind', 'to', 'fear', 'or', 'appreciate', 'the', 'terrific', 'elegance', 'of', 'the', 'scene', 'they', 'have', 'arrived', 'at', ';', 'he', 'asked', '“', 'Give', 'me', 'amontillado', '“', '.', 'Montresor', 'replied', 'in', 'a', 'wittily', 'crooked', 'manner', '“', 'Let', 'me', 'repeat', 'the', 'consequences', 'or', 'shall', 'I', 'say', 'the', 'ritual', 'of', 'drinking', 'this', 'elixir', 'of', 'other', 'worldly', 'experience.', '”', 'He', 'went', 'on', ',', '“', 'This', 'cask', 'in', 'front', 'of', 'you', 'is', 'no', 'ordinary', 'cask', 'of', 'wine', ',', 'it', 'captures', 'the', 'mysteries', 'of', 'the', 'universe', ';', 'those', 'who', 'can', 'tolerate', 'such', 'energy', 'shall', 'live', 'a', 'million', 'years', 'and', 'those', 'who', 'can', '’', 't', 'shall', 'sacrifice', 'their', 'life', 'to', 'the', 'cask', 'of', 'amontillado.', '”', '“', 'Hence', 'I', 'ask', 'you', 'again', '.', 'And', 'it', 'is', 'also', 'my', 'duty', 'as', 'a', 'servant', 'to', 'the', 'Lord', 'Odallitnoma', '!', 'Do', 'you', 'must', 'drink', 'the', 'amontillado', ',', 'Fortunato', '?', '“', 'asked', 'Montresor', '.', '“', 'Yes', '!', 'Amontillado', '!', '“', 'said', 'Fortunato', 'in', 'an', 'eerie', 'voice', ';', 'his', 'eyes', 'brightly', 'locked', 'towards', 'the', 'cask', '.', 'Montresor', 'poured', 'some', 'of', 'the', 'blood', 'red', 'liquid', 'in', 'a', 'purple', 'glass', 'which', 'was', 'carefully', 'placed', 'in', 'a', 'pocket', 'on', 'the', 'side', 'of', 'the', 'cask', '.', 'Fortunato', 'looked', 'mesmerizingly', 'at', 'the', 'wine', 'and', 'carefully', 'took', 'the', 'glass', 'from', 'Montresor', '’', 's', 'hands', '.', 'He', 'drank', 'the', 'wine', 'and', 'immediately', 'he', 'closed', 'his', 'eyes', ';', 'his', 'hands', 'stuck', 'in', 'the', 'same', 'position', 'glass', 'in', 'front', 'of', 'his', 'mouth', '.', 'He', 'opened', 'his', 'eyes', 'after', 'a', 'few', 'seconds', '.', 'Surprisingly', 'his', 'intoxication', 'had', 'seemed', 'to', 'have', 'gone', 'away', '.', 'He', 'spoke', 'in', 'his', 'normal', 'voice', ',', '“', 'Montresor', '!', '“', '.', '“', 'How', 'do', 'you', 'feel', '?', '”', 'curiously', 'asked', 'Montresor', '.', '“', 'I', 'don', '’', 't', 'feel', 'my', 'body', '.', 'Also', 'why', 'are', 'you', 'asking', 'me', '?', 'Why', 'do', \"n't\", 'you', 'taste', 'for', 'yourself', '?', 'What', 'is', 'the', 'drink', '?', 'What', 'is', 'this', 'place', '?', '“', '“', 'It', 'is', 'part', 'of', 'the', 'amontillado', 'ritual', '.', 'For', 'this', 'drink', 'to', 'stay', 'in', 'existence', 'every', 'year', 'on', 'the', 'day', 'of', 'the', 'blood', 'moon', 'one', 'soul', 'must', 'be', 'sacrificed', ',', 'or', 'else', 'the', 'drink', 'will', 'evaporate', 'inside', 'the', 'empty', 'cask', '.', 'Your', 'soul', 'has', 'left', 'your', 'body', 'already', '.', 'Now', ',', 'if', 'you', 'are', 'strong', 'enough', 'you', 'will', 'suffer', 'immortality', 'and', 'if', 'you', 'are', 'weak', 'then', 'your', 'body', 'will', 'spill', 'like', 'wine', 'and', 'will', 'be', 'soaked', 'into', 'the', 'gravel', 'underneath.', '”', 'Montresor', 'looked', 'at', 'Fortunato', ',', '”', 'And', 'why', 'ca', \"n't\", 'I', 'drink', 'the', 'wine', '?', '..', 'I', 'already', 'did', '.', 'Five', 'Hundred', 'years', 'ago', '.', 'Now', 'I', 'am', 'cursed', 'with', 'my', 'body', 'as', 'the', 'servant', ';', 'to', 'keep', 'the', 'cycle', 'of', 'sacrifice', 'continued', '.', 'If', 'I', 'drink', 'it', 'again', 'I', 'will', 'be', 'transformed', 'into', 'liquid', 'and', 'infused', 'into', 'the', 'cask.', '”', 'Suddenly', 'there', 'is', 'a', 'bright', 'red', 'light', 'from', 'inside', 'the', 'cask', '.', 'Fortunato', '’', 's', 'hands', 'and', 'limbs', 'were', 'falling', 'from', 'his', 'body', '.', 'He', 'shouted', 'in', 'pain', '.', 'As', 'soon', 'as', 'his', 'limbs', 'fell', 'to', 'the', 'ground', 'it', 'transformed', 'into', 'red', 'liquid', '.', 'Pieces', 'by', 'pieces', 'all', 'his', 'body', 'parts', 'and', 'finally', 'his', 'head', 'converted', 'into', 'thick', 'red', 'liquid', '.', 'To', 'the', 'surprise', 'of', 'Montresor', ',', 'Fortunato', '’', 's', 'liquid', 'body', 'was', 'not', 'soaked', 'into', 'the', 'ground', '.', 'Instead', 'it', 'started', 'moving', 'upwards', ',', 'towards', 'the', 'golden', 'cask', '.', 'The', 'cask', 'was', 'still', 'glowing', 'red', '.', 'The', 'red', 'liquid', 'on', 'the', 'ground', 'was', 'slowly', 'absorbed', 'by', 'the', 'cask', 'and', 'after', 'completion', 'the', 'red', 'glow', 'went', 'dim', '.', 'Montresor', 'remembered', ';', 'few', 'centuries', 'ago', 'one', 'stranger', 'gave', 'him', 'a', 'bottle', 'of', 'wine', 'and', 'forbade', 'him', 'to', 'open', 'that', ',', 'but', 'out', 'of', 'curiosity', 'he', 'opened', 'that', 'and', 'liked', 'the', 'taste', 'of', 'the', 'drink', '.']\n",
      "705\n"
     ]
    }
   ],
   "source": [
    "tokens = word_tokenize(text_string)\n",
    "print(tokens)\n",
    "print(len(tokens))"
   ]
  },
  {
   "cell_type": "markdown",
   "metadata": {},
   "source": [
    "### Converting to lowercase"
   ]
  },
  {
   "cell_type": "code",
   "execution_count": 27,
   "metadata": {},
   "outputs": [],
   "source": [
    "tokens_lower = [i.lower() for i in tokens]"
   ]
  },
  {
   "cell_type": "markdown",
   "metadata": {},
   "source": [
    "###### Checking frequency"
   ]
  },
  {
   "cell_type": "code",
   "execution_count": 34,
   "metadata": {},
   "outputs": [
    {
     "name": "stdout",
     "output_type": "stream",
     "text": [
      "284\n"
     ]
    },
    {
     "data": {
      "text/plain": [
       "FreqDist({'the': 49, '.': 34, 'of': 22, 'and': 19, '“': 14, 'his': 13, 'in': 13, 'montresor': 12, 'cask': 11, 'fortunato': 10, ...})"
      ]
     },
     "execution_count": 34,
     "metadata": {},
     "output_type": "execute_result"
    }
   ],
   "source": [
    "from nltk.probability import FreqDist\n",
    "dic = FreqDist()\n",
    "\n",
    "for i in tokens_lower:\n",
    "    dic[i] += 1\n",
    "\n",
    "print(len(dic))\n",
    "dic"
   ]
  },
  {
   "cell_type": "code",
   "execution_count": 33,
   "metadata": {},
   "outputs": [
    {
     "data": {
      "text/plain": [
       "[('the', 196),\n",
       " ('.', 136),\n",
       " ('of', 88),\n",
       " ('and', 76),\n",
       " ('“', 56),\n",
       " ('his', 52),\n",
       " ('in', 52),\n",
       " ('montresor', 48),\n",
       " ('cask', 44),\n",
       " ('fortunato', 40)]"
      ]
     },
     "execution_count": 33,
     "metadata": {},
     "output_type": "execute_result"
    }
   ],
   "source": [
    "top10 = dic.most_common(10)\n",
    "top10"
   ]
  },
  {
   "cell_type": "markdown",
   "metadata": {},
   "source": [
    "### Removing Stop-Words"
   ]
  },
  {
   "cell_type": "code",
   "execution_count": 45,
   "metadata": {},
   "outputs": [
    {
     "name": "stdout",
     "output_type": "stream",
     "text": [
      "['i', 'me', 'my', 'myself', 'we', 'our', 'ours', 'ourselves', 'you', \"you're\"]\n"
     ]
    }
   ],
   "source": [
    "from nltk.corpus import stopwords\n",
    "stop_words = stopwords.words('english')\n",
    "print(stop_words[:10])\n",
    "stop_words = stop_words[:10]"
   ]
  },
  {
   "cell_type": "code",
   "execution_count": 49,
   "metadata": {},
   "outputs": [
    {
     "data": {
      "text/plain": [
       "682"
      ]
     },
     "execution_count": 49,
     "metadata": {},
     "output_type": "execute_result"
    }
   ],
   "source": [
    "tokens_stopwords_removed = []\n",
    "for i in tokens_lower:\n",
    "    if i in stop_words:\n",
    "        continue\n",
    "    else:\n",
    "        tokens_stopwords_removed.append(i)\n",
    "\n",
    "len(tokens_stopwords_removed)"
   ]
  },
  {
   "cell_type": "markdown",
   "metadata": {},
   "source": [
    "###### Punctuation fixing"
   ]
  },
  {
   "cell_type": "code",
   "execution_count": 93,
   "metadata": {},
   "outputs": [
    {
     "data": {
      "text/plain": [
       "676"
      ]
     },
     "execution_count": 93,
     "metadata": {},
     "output_type": "execute_result"
    }
   ],
   "source": [
    "import re\n",
    "punc = re.compile(r'[-,!?;:()''|0-9]')\n",
    "tkn_punc_removed = []\n",
    "for i in tokens_lower:\n",
    "    ii = punc.sub(\"\",i)\n",
    "    if len(ii)>0:\n",
    "        tkn_punc_removed.append(ii)\n",
    "\n",
    "len(tkn_punc_removed)"
   ]
  },
  {
   "cell_type": "markdown",
   "metadata": {},
   "source": [
    "###### Creating N-Grams"
   ]
  },
  {
   "cell_type": "code",
   "execution_count": 55,
   "metadata": {},
   "outputs": [
    {
     "data": {
      "text/plain": [
       "[('fortunato', 'and', 'montresor', 'are'),\n",
       " ('and', 'montresor', 'are', 'descending'),\n",
       " ('montresor', 'are', 'descending', 'into'),\n",
       " ('are', 'descending', 'into', 'the'),\n",
       " ('descending', 'into', 'the', 'damp'),\n",
       " ('into', 'the', 'damp', 'vaults')]"
      ]
     },
     "execution_count": 55,
     "metadata": {},
     "output_type": "execute_result"
    }
   ],
   "source": [
    "ngram_tkn = list(nltk.ngrams(tokens_lower, 4))\n",
    "ngram_tkn[:6]"
   ]
  },
  {
   "cell_type": "markdown",
   "metadata": {},
   "source": [
    "### Stemming"
   ]
  },
  {
   "cell_type": "markdown",
   "metadata": {},
   "source": [
    "###### Porter stemmer"
   ]
  },
  {
   "cell_type": "code",
   "execution_count": 70,
   "metadata": {},
   "outputs": [],
   "source": [
    "from nltk.stem import PorterStemmer\n",
    "p_stemmer = PorterStemmer()"
   ]
  },
  {
   "cell_type": "code",
   "execution_count": 85,
   "metadata": {},
   "outputs": [
    {
     "name": "stdout",
     "output_type": "stream",
     "text": [
      "descending : descend\n",
      "vaults : vault\n",
      "strategically : strateg\n",
      "planned : plan\n",
      "following : follow\n",
      "his : hi\n",
      "investigative : investig\n",
      "excitement : excit\n",
      "intoxicated : intox\n",
      "his : hi\n",
      "centre : centr\n"
     ]
    }
   ],
   "source": [
    "for i in tokens_stopwords_removed[:60]:\n",
    "    stm = p_stemmer.stem(i)\n",
    "    if len(i)!=len(stm):\n",
    "        print(i,\":\",stm)"
   ]
  },
  {
   "cell_type": "markdown",
   "metadata": {},
   "source": [
    "###### Lancaster Stemmer"
   ]
  },
  {
   "cell_type": "code",
   "execution_count": 83,
   "metadata": {},
   "outputs": [],
   "source": [
    "from nltk.stem import LancasterStemmer\n",
    "l_stemmer = LancasterStemmer()"
   ]
  },
  {
   "cell_type": "code",
   "execution_count": 86,
   "metadata": {},
   "outputs": [
    {
     "name": "stdout",
     "output_type": "stream",
     "text": [
      "montresor : montres\n",
      "are : ar\n",
      "descending : descend\n",
      "vaults : vault\n",
      "under : und\n",
      "river : riv\n",
      "montresor : montres\n",
      "planned : plan\n",
      "all : al\n",
      "these : thes\n",
      "following : follow\n",
      "investigative : investig\n",
      "excitement : excit\n",
      "final : fin\n",
      "heavily : heavy\n",
      "intoxicated : intox\n",
      "montresor : montres\n",
      "there : ther\n",
      "centre : cent\n"
     ]
    }
   ],
   "source": [
    "for i in tokens_stopwords_removed[:60]:\n",
    "    stm = l_stemmer.stem(i)\n",
    "    if len(i)!=len(stm):\n",
    "        print(i,\":\",stm)"
   ]
  },
  {
   "cell_type": "markdown",
   "metadata": {},
   "source": [
    "###### SnowBall stemmer"
   ]
  },
  {
   "cell_type": "code",
   "execution_count": 81,
   "metadata": {},
   "outputs": [],
   "source": [
    "from nltk.stem import SnowballStemmer\n",
    "s_stemmer = SnowballStemmer('english')"
   ]
  },
  {
   "cell_type": "code",
   "execution_count": 87,
   "metadata": {},
   "outputs": [
    {
     "name": "stdout",
     "output_type": "stream",
     "text": [
      "descending : descend\n",
      "vaults : vault\n",
      "strategically : strateg\n",
      "planned : plan\n",
      "following : follow\n",
      "investigative : investig\n",
      "excitement : excit\n",
      "intoxicated : intox\n",
      "centre : centr\n"
     ]
    }
   ],
   "source": [
    "for i in tokens_stopwords_removed[:60]:\n",
    "    stm = s_stemmer.stem(i)\n",
    "    if len(i)!=len(stm):\n",
    "        print(i,\":\",stm)"
   ]
  },
  {
   "cell_type": "markdown",
   "metadata": {},
   "source": [
    "### Lemmatization\n",
    "(without taking part of speech context)"
   ]
  },
  {
   "cell_type": "code",
   "execution_count": 88,
   "metadata": {},
   "outputs": [],
   "source": [
    "from nltk.stem import wordnet\n",
    "from nltk.stem import WordNetLemmatizer\n",
    "\n",
    "lemzer = WordNetLemmatizer()"
   ]
  },
  {
   "cell_type": "code",
   "execution_count": 100,
   "metadata": {},
   "outputs": [
    {
     "data": {
      "text/plain": [
       "'drive'"
      ]
     },
     "execution_count": 100,
     "metadata": {},
     "output_type": "execute_result"
    }
   ],
   "source": [
    "lemzer.lemmatize('drives')"
   ]
  },
  {
   "cell_type": "code",
   "execution_count": 101,
   "metadata": {},
   "outputs": [
    {
     "name": "stdout",
     "output_type": "stream",
     "text": [
      "captures : capture\n",
      "vaults : vault\n",
      "limbs : limb\n",
      "seconds : second\n",
      "was : wa\n",
      "pieces : piece\n",
      "has : ha\n",
      "consequences : consequence\n",
      "skulls : skull\n",
      "bones : bone\n",
      "mysteries : mystery\n",
      "eyes : eye\n",
      "parts : part\n",
      "centuries : century\n",
      "years : year\n",
      "hands : hand\n",
      "as : a\n",
      "jewels : jewel\n"
     ]
    }
   ],
   "source": [
    "for i in set(tkn_punc_removed):\n",
    "    lm = lemzer.lemmatize(i)\n",
    "    if i!=lm:\n",
    "        print(i,\":\",lm)"
   ]
  },
  {
   "cell_type": "code",
   "execution_count": null,
   "metadata": {},
   "outputs": [],
   "source": []
  }
 ],
 "metadata": {
  "kernelspec": {
   "display_name": "Python 3",
   "language": "python",
   "name": "python3"
  },
  "language_info": {
   "codemirror_mode": {
    "name": "ipython",
    "version": 3
   },
   "file_extension": ".py",
   "mimetype": "text/x-python",
   "name": "python",
   "nbconvert_exporter": "python",
   "pygments_lexer": "ipython3",
   "version": "3.10.8"
  }
 },
 "nbformat": 4,
 "nbformat_minor": 2
}
